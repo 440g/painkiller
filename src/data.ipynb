{
 "cells": [
  {
   "cell_type": "markdown",
   "id": "68f8ca77",
   "metadata": {},
   "source": [
    "# Feautre Selection; Data exploration\n",
    "* Visualization and examination of statistical measures"
   ]
  },
  {
   "cell_type": "markdown",
   "id": "204c7363",
   "metadata": {},
   "source": []
  }
 ],
 "metadata": {
  "language_info": {
   "name": "python"
  }
 },
 "nbformat": 4,
 "nbformat_minor": 5
}
