{
 "cells": [
  {
   "cell_type": "markdown",
   "id": "68f8ca77",
   "metadata": {},
   "source": [
    "# Data exploration\n",
    "* Visualization and examination of statistical measures"
   ]
  },
  {
   "cell_type": "markdown",
   "id": "9d4322cd",
   "metadata": {},
   "source": [
    "# Data preprocessing\n",
    "* Normalization, encoding, and handling missing or outlier values, …."
   ]
  },
  {
   "cell_type": "markdown",
   "id": "204c7363",
   "metadata": {},
   "source": [
    "# Data split"
   ]
  },
  {
   "cell_type": "markdown",
   "id": "59873db0",
   "metadata": {},
   "source": []
  }
 ],
 "metadata": {
  "language_info": {
   "name": "python"
  }
 },
 "nbformat": 4,
 "nbformat_minor": 5
}
