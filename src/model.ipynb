{
 "cells": [
  {
   "cell_type": "markdown",
   "id": "f6869c9f",
   "metadata": {},
   "source": [
    "# Model training and validation\n",
    "* Selection of multiple machine learning algorithms."
   ]
  },
  {
   "cell_type": "markdown",
   "id": "2d406d73",
   "metadata": {},
   "source": [
    "# Test set preprocessing"
   ]
  },
  {
   "cell_type": "markdown",
   "id": "c4cdec48",
   "metadata": {},
   "source": []
  }
 ],
 "metadata": {
  "language_info": {
   "name": "python"
  }
 },
 "nbformat": 4,
 "nbformat_minor": 5
}
