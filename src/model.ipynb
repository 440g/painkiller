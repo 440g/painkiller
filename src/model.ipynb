{
 "cells": [
  {
   "cell_type": "markdown",
   "id": "e9f22fbb",
   "metadata": {},
   "source": [
    "# Feature Engineering; Data preprocessing\n",
    "* Normalization, encoding, and handling missing or outlier values, …."
   ]
  },
  {
   "cell_type": "markdown",
   "id": "e6d3948d",
   "metadata": {},
   "source": []
  }
 ],
 "metadata": {
  "language_info": {
   "name": "python"
  }
 },
 "nbformat": 4,
 "nbformat_minor": 5
}
