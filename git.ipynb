{
  "nbformat": 4,
  "nbformat_minor": 0,
  "metadata": {
    "colab": {
      "provenance": [],
      "authorship_tag": "ABX9TyNcLItKemOWUWXGaw4axthb",
      "include_colab_link": true
    },
    "kernelspec": {
      "name": "python3",
      "display_name": "Python 3"
    },
    "language_info": {
      "name": "python"
    }
  },
  "cells": [
    {
      "cell_type": "markdown",
      "metadata": {
        "id": "view-in-github",
        "colab_type": "text"
      },
      "source": [
        "<a href=\"https://colab.research.google.com/github/440g/painkiller/blob/main/git.ipynb\" target=\"_parent\"><img src=\"https://colab.research.google.com/assets/colab-badge.svg\" alt=\"Open In Colab\"/></a>"
      ]
    },
    {
      "cell_type": "code",
      "source": [
        "from google.colab import drive\n",
        "drive.mount('/content/drive')"
      ],
      "metadata": {
        "colab": {
          "base_uri": "https://localhost:8080/"
        },
        "id": "PtiykvzR4VwA",
        "outputId": "1f7ca01b-4fd7-407e-fcef-529798ab28b9"
      },
      "execution_count": 10,
      "outputs": [
        {
          "output_type": "stream",
          "name": "stdout",
          "text": [
            "Mounted at /content/drive\n"
          ]
        }
      ]
    },
    {
      "cell_type": "code",
      "execution_count": 11,
      "metadata": {
        "colab": {
          "base_uri": "https://localhost:8080/"
        },
        "id": "GDM-Mg0x2-su",
        "outputId": "18947604-e8dc-4b3a-ca31-cddd5d488202"
      },
      "outputs": [
        {
          "output_type": "stream",
          "name": "stdout",
          "text": [
            "/content/drive/MyDrive/painkiller\n"
          ]
        }
      ],
      "source": [
        "cd \"/content/drive/MyDrive/painkiller/\""
      ]
    },
    {
      "cell_type": "code",
      "source": [
        "!git pull"
      ],
      "metadata": {
        "id": "vG9hasy23HOJ",
        "colab": {
          "base_uri": "https://localhost:8080/"
        },
        "outputId": "52a0826a-6f18-4d23-954e-b9420b67abb5"
      },
      "execution_count": 15,
      "outputs": [
        {
          "output_type": "stream",
          "name": "stdout",
          "text": [
            "Updating 3ff66a8..5a682d4\n",
            "Fast-forward\n",
            " getting_started.ipynb | 79 \u001b[32m+++++++++++++++++++\u001b[m\u001b[31m--------------------------------\u001b[m\n",
            " 1 file changed, 29 insertions(+), 50 deletions(-)\n"
          ]
        }
      ]
    }
  ]
}